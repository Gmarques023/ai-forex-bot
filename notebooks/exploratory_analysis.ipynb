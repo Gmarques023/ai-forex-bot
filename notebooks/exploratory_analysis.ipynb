{
 "cells": [
  {
   "cell_type": "code",
   "execution_count": 13,
   "metadata": {},
   "outputs": [
    {
     "ename": "ImportError",
     "evalue": "cannot import name 'ArrowDtype' from 'pandas.core.api' (c:\\Users\\gonca\\AppData\\Local\\Programs\\Python\\Python310\\lib\\site-packages\\pandas\\core\\api.py)",
     "output_type": "error",
     "traceback": [
      "\u001b[1;31m---------------------------------------------------------------------------\u001b[0m",
      "\u001b[1;31mImportError\u001b[0m                               Traceback (most recent call last)",
      "Input \u001b[1;32mIn [13]\u001b[0m, in \u001b[0;36m<module>\u001b[1;34m\u001b[0m\n\u001b[1;32m----> 1\u001b[0m \u001b[38;5;28;01mimport\u001b[39;00m \u001b[38;5;21;01mpandas\u001b[39;00m \u001b[38;5;28;01mas\u001b[39;00m \u001b[38;5;21;01mpd\u001b[39;00m\n",
      "File \u001b[1;32mc:\\Users\\gonca\\AppData\\Local\\Programs\\Python\\Python310\\lib\\site-packages\\pandas\\__init__.py:62\u001b[0m, in \u001b[0;36m<module>\u001b[1;34m\u001b[0m\n\u001b[0;32m     47\u001b[0m \u001b[38;5;66;03m# let init-time option registration happen\u001b[39;00m\n\u001b[0;32m     48\u001b[0m \u001b[38;5;28;01mimport\u001b[39;00m \u001b[38;5;21;01mpandas\u001b[39;00m\u001b[38;5;21;01m.\u001b[39;00m\u001b[38;5;21;01mcore\u001b[39;00m\u001b[38;5;21;01m.\u001b[39;00m\u001b[38;5;21;01mconfig_init\u001b[39;00m\n\u001b[0;32m     50\u001b[0m \u001b[38;5;28;01mfrom\u001b[39;00m \u001b[38;5;21;01mpandas\u001b[39;00m\u001b[38;5;21;01m.\u001b[39;00m\u001b[38;5;21;01mcore\u001b[39;00m\u001b[38;5;21;01m.\u001b[39;00m\u001b[38;5;21;01mapi\u001b[39;00m \u001b[38;5;28;01mimport\u001b[39;00m (\n\u001b[0;32m     51\u001b[0m     \u001b[38;5;66;03m# dtype\u001b[39;00m\n\u001b[0;32m     52\u001b[0m     Int8Dtype,\n\u001b[0;32m     53\u001b[0m     Int16Dtype,\n\u001b[0;32m     54\u001b[0m     Int32Dtype,\n\u001b[0;32m     55\u001b[0m     Int64Dtype,\n\u001b[0;32m     56\u001b[0m     UInt8Dtype,\n\u001b[0;32m     57\u001b[0m     UInt16Dtype,\n\u001b[0;32m     58\u001b[0m     UInt32Dtype,\n\u001b[0;32m     59\u001b[0m     UInt64Dtype,\n\u001b[0;32m     60\u001b[0m     Float32Dtype,\n\u001b[0;32m     61\u001b[0m     Float64Dtype,\n\u001b[1;32m---> 62\u001b[0m     CategoricalDtype,\n\u001b[0;32m     63\u001b[0m     PeriodDtype,\n\u001b[0;32m     64\u001b[0m     IntervalDtype,\n\u001b[0;32m     65\u001b[0m     DatetimeTZDtype,\n\u001b[0;32m     66\u001b[0m     StringDtype,\n\u001b[0;32m     67\u001b[0m     BooleanDtype,\n\u001b[0;32m     68\u001b[0m     \u001b[38;5;66;03m# missing\u001b[39;00m\n\u001b[0;32m     69\u001b[0m     NA,\n\u001b[0;32m     70\u001b[0m     isna,\n\u001b[0;32m     71\u001b[0m     isnull,\n\u001b[0;32m     72\u001b[0m     notna,\n\u001b[0;32m     73\u001b[0m     notnull,\n\u001b[0;32m     74\u001b[0m     \u001b[38;5;66;03m# indexes\u001b[39;00m\n\u001b[0;32m     75\u001b[0m     Index,\n\u001b[0;32m     76\u001b[0m     CategoricalIndex,\n\u001b[0;32m     77\u001b[0m     Int64Index,\n\u001b[0;32m     78\u001b[0m     UInt64Index,\n\u001b[0;32m     79\u001b[0m     RangeIndex,\n\u001b[0;32m     80\u001b[0m     Float64Index,\n\u001b[0;32m     81\u001b[0m     MultiIndex,\n\u001b[0;32m     82\u001b[0m     IntervalIndex,\n\u001b[0;32m     83\u001b[0m     TimedeltaIndex,\n\u001b[0;32m     84\u001b[0m     DatetimeIndex,\n\u001b[0;32m     85\u001b[0m     PeriodIndex,\n\u001b[0;32m     86\u001b[0m     IndexSlice,\n\u001b[0;32m     87\u001b[0m     \u001b[38;5;66;03m# tseries\u001b[39;00m\n\u001b[0;32m     88\u001b[0m     NaT,\n\u001b[0;32m     89\u001b[0m     Period,\n\u001b[0;32m     90\u001b[0m     period_range,\n\u001b[0;32m     91\u001b[0m     Timedelta,\n\u001b[0;32m     92\u001b[0m     timedelta_range,\n\u001b[0;32m     93\u001b[0m     Timestamp,\n\u001b[0;32m     94\u001b[0m     date_range,\n\u001b[0;32m     95\u001b[0m     bdate_range,\n\u001b[0;32m     96\u001b[0m     Interval,\n\u001b[0;32m     97\u001b[0m     interval_range,\n\u001b[0;32m     98\u001b[0m     DateOffset,\n\u001b[0;32m     99\u001b[0m     \u001b[38;5;66;03m# conversion\u001b[39;00m\n\u001b[0;32m    100\u001b[0m     to_numeric,\n\u001b[0;32m    101\u001b[0m     to_datetime,\n\u001b[0;32m    102\u001b[0m     to_timedelta,\n\u001b[0;32m    103\u001b[0m     \u001b[38;5;66;03m# misc\u001b[39;00m\n\u001b[0;32m    104\u001b[0m     Flags,\n\u001b[0;32m    105\u001b[0m     Grouper,\n\u001b[0;32m    106\u001b[0m     factorize,\n\u001b[0;32m    107\u001b[0m     unique,\n\u001b[0;32m    108\u001b[0m     value_counts,\n\u001b[0;32m    109\u001b[0m     NamedAgg,\n\u001b[0;32m    110\u001b[0m     array,\n\u001b[0;32m    111\u001b[0m     Categorical,\n\u001b[0;32m    112\u001b[0m     set_eng_float_format,\n\u001b[0;32m    113\u001b[0m     Series,\n\u001b[0;32m    114\u001b[0m     DataFrame,\n\u001b[0;32m    115\u001b[0m )\n\u001b[0;32m    117\u001b[0m \u001b[38;5;28;01mfrom\u001b[39;00m \u001b[38;5;21;01mpandas\u001b[39;00m\u001b[38;5;21;01m.\u001b[39;00m\u001b[38;5;21;01mcore\u001b[39;00m\u001b[38;5;21;01m.\u001b[39;00m\u001b[38;5;21;01marrays\u001b[39;00m\u001b[38;5;21;01m.\u001b[39;00m\u001b[38;5;21;01msparse\u001b[39;00m \u001b[38;5;28;01mimport\u001b[39;00m SparseDtype\n\u001b[0;32m    119\u001b[0m \u001b[38;5;28;01mfrom\u001b[39;00m \u001b[38;5;21;01mpandas\u001b[39;00m\u001b[38;5;21;01m.\u001b[39;00m\u001b[38;5;21;01mtseries\u001b[39;00m\u001b[38;5;21;01m.\u001b[39;00m\u001b[38;5;21;01mapi\u001b[39;00m \u001b[38;5;28;01mimport\u001b[39;00m infer_freq\n",
      "\u001b[1;31mImportError\u001b[0m: cannot import name 'ArrowDtype' from 'pandas.core.api' (c:\\Users\\gonca\\AppData\\Local\\Programs\\Python\\Python310\\lib\\site-packages\\pandas\\core\\api.py)"
     ]
    }
   ],
   "source": [
    "import pandas as pd\n",
    "from sklearn.model_selection import train_test_split\n",
    "from sklearn.ensemble import RandomForestClassifier\n",
    "from sklearn.metrics import classification_report, accuracy_score\n",
    "\n",
    "data_path = './GBPUSD_M15.csv'\n",
    "\n",
    "df = pd.read_csv(data_path,  sep='\\t', index_col=False)\n",
    "\n",
    "df['Target'] = (df['Close'] > df['Open']).astype(int)\n",
    "\n",
    "df\n",
    "\n",
    "# Selecionar features e target\n",
    "features = df[['Open', 'High', 'Low', 'Close']]\n",
    "target = df['Target']\n",
    "\n",
    "# Dividir os dados em treino e teste\n",
    "X_train, X_test, y_train, y_test = train_test_split(features, target, test_size=0.2, random_state=42)\n",
    "\n",
    "# Instanciar o modelo RandomForestClassifier\n",
    "model = RandomForestClassifier(n_estimators=2, random_state=42)\n",
    "\n",
    "# Treinar o modelo\n",
    "model.fit(X_train, y_train)\n",
    "\n",
    "# Fazer previsões no conjunto de teste\n",
    "y_pred = model.predict(X_test)\n",
    "\n",
    "# Avaliar a performance do modelo\n",
    "accuracy = accuracy_score(y_test, y_pred)\n",
    "report = classification_report(y_test, y_pred)\n",
    "\n",
    "print(f\"Accuracy: {accuracy}\")\n",
    "print(\"Classification Report:\")\n",
    "print(report)\n",
    "\n",
    "\n"
   ]
  }
 ],
 "metadata": {
  "kernelspec": {
   "display_name": "Python 3",
   "language": "python",
   "name": "python3"
  },
  "language_info": {
   "codemirror_mode": {
    "name": "ipython",
    "version": 3
   },
   "file_extension": ".py",
   "mimetype": "text/x-python",
   "name": "python",
   "nbconvert_exporter": "python",
   "pygments_lexer": "ipython3",
   "version": "3.10.0"
  }
 },
 "nbformat": 4,
 "nbformat_minor": 2
}
